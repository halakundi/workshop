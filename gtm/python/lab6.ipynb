{
 "cells": [
  {
   "cell_type": "code",
   "execution_count": 1,
   "id": "257b37e4-dab3-4df7-994c-9be438619710",
   "metadata": {},
   "outputs": [
    {
     "name": "stdout",
     "output_type": "stream",
     "text": [
      "Energy Consumption (in MWh) for different Renewable Sources:\n",
      "[1200 3400 2900 1800 2500]\n"
     ]
    }
   ],
   "source": [
    "import numpy as np\n",
    "energy_consumption = np.array([1200, 3400, 2900, 1800, 2500])\n",
    "print(\"Energy Consumption (in MWh) for different Renewable Sources:\")\n",
    "print(energy_consumption)"
   ]
  },
  {
   "cell_type": "code",
   "execution_count": 2,
   "id": "8d89f797-dee7-4330-80b2-32a520446346",
   "metadata": {},
   "outputs": [
    {
     "name": "stdout",
     "output_type": "stream",
     "text": [
      "\n",
      "Total Energy Consumption: 11800 MWh\n"
     ]
    }
   ],
   "source": [
    "total_consumption = np.sum(energy_consumption)\n",
    "print(f\"\\nTotal Energy Consumption: {total_consumption} MWh\")"
   ]
  },
  {
   "cell_type": "code",
   "execution_count": 4,
   "id": "0374b113-9a97-4a2e-b8d1-42bf0a9bd55c",
   "metadata": {},
   "outputs": [
    {
     "name": "stdout",
     "output_type": "stream",
     "text": [
      "\n",
      "Mean Energy Consumption: 2360.00 MWh\n"
     ]
    }
   ],
   "source": [
    "mean_consumption = np.mean(energy_consumption)\n",
    "print(f\"\\nMean Energy Consumption: {mean_consumption:.2f} MWh\")"
   ]
  },
  {
   "cell_type": "code",
   "execution_count": 5,
   "id": "c51aad8f-9f96-4152-9f7b-3820270c8a64",
   "metadata": {},
   "outputs": [
    {
     "name": "stdout",
     "output_type": "stream",
     "text": [
      "\n",
      "Standard Deviation of Energy Consumption: 781.28 MWh\n"
     ]
    }
   ],
   "source": [
    "std_consumption = np.std(energy_consumption)\n",
    "print(f\"\\nStandard Deviation of Energy Consumption: {std_consumption:.2f} MWh\")"
   ]
  },
  {
   "cell_type": "code",
   "execution_count": 6,
   "id": "ae277502-6af0-4b7a-bb55-5db60d71b527",
   "metadata": {},
   "outputs": [
    {
     "name": "stdout",
     "output_type": "stream",
     "text": [
      "\n",
      "Reshaped Energy Consumption Array (5x1):\n",
      "[[1200]\n",
      " [3400]\n",
      " [2900]\n",
      " [1800]\n",
      " [2500]]\n"
     ]
    }
   ],
   "source": [
    "reshaped_array = energy_consumption.reshape((5,1))\n",
    "print(\"\\nReshaped Energy Consumption Array (5x1):\")\n",
    "print(reshaped_array)"
   ]
  }
 ],
 "metadata": {
  "kernelspec": {
   "display_name": "Python 3 (ipykernel)",
   "language": "python",
   "name": "python3"
  },
  "language_info": {
   "codemirror_mode": {
    "name": "ipython",
    "version": 3
   },
   "file_extension": ".py",
   "mimetype": "text/x-python",
   "name": "python",
   "nbconvert_exporter": "python",
   "pygments_lexer": "ipython3",
   "version": "3.12.8"
  }
 },
 "nbformat": 4,
 "nbformat_minor": 5
}
