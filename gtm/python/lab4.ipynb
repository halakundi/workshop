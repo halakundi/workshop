{
 "cells": [
  {
   "cell_type": "code",
   "execution_count": 1,
   "id": "65dfd249-8642-4a7e-8947-ad1912cad44d",
   "metadata": {},
   "outputs": [],
   "source": [
    "def calculate_carbon_footprint(engery_consumption, emission_factor):\n",
    "    return energy_consumption * emission_factor"
   ]
  },
  {
   "cell_type": "code",
   "execution_count": 2,
   "id": "abcc305b-d167-490c-9891-b75d34ca2fd2",
   "metadata": {},
   "outputs": [
    {
     "name": "stdout",
     "output_type": "stream",
     "text": [
      "Carbon Footprint: 475.0 kg CO2\n"
     ]
    }
   ],
   "source": [
    "energy_consumption = 1000\n",
    "emission_factor = 0.475\n",
    "carbon_footprint = calculate_carbon_footprint(energy_consumption, emission_factor)\n",
    "print(f\"Carbon Footprint: {carbon_footprint} kg CO2\")"
   ]
  },
  {
   "cell_type": "code",
   "execution_count": null,
   "id": "1044b044-6889-4ac3-996c-7cce767e7c3d",
   "metadata": {},
   "outputs": [],
   "source": []
  }
 ],
 "metadata": {
  "kernelspec": {
   "display_name": "Python 3 (ipykernel)",
   "language": "python",
   "name": "python3"
  },
  "language_info": {
   "codemirror_mode": {
    "name": "ipython",
    "version": 3
   },
   "file_extension": ".py",
   "mimetype": "text/x-python",
   "name": "python",
   "nbconvert_exporter": "python",
   "pygments_lexer": "ipython3",
   "version": "3.12.8"
  }
 },
 "nbformat": 4,
 "nbformat_minor": 5
}
