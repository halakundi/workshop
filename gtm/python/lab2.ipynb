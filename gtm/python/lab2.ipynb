{
 "cells": [
  {
   "cell_type": "code",
   "execution_count": 1,
   "id": "5c2e52c0-bb88-4ff4-a3b6-6600499d2119",
   "metadata": {},
   "outputs": [
    {
     "name": "stdout",
     "output_type": "stream",
     "text": [
      "city Name:city A\n"
     ]
    }
   ],
   "source": [
    "city_name =\"city A\"\n",
    "print(f\"city Name:{city_name}\")"
   ]
  },
  {
   "cell_type": "code",
   "execution_count": 4,
   "id": "088e61c4-3a5d-4fba-93eb-8e7263407d01",
   "metadata": {},
   "outputs": [
    {
     "name": "stdout",
     "output_type": "stream",
     "text": [
      "sum of 45 and 55 is 100\n"
     ]
    }
   ],
   "source": [
    "a=45\n",
    "b=55\n",
    "print(f\"sum of {a} and {b} is {a+b}\")"
   ]
  },
  {
   "cell_type": "code",
   "execution_count": 6,
   "id": "363df372-4b20-49cc-87c1-68f6528ccba0",
   "metadata": {},
   "outputs": [
    {
     "name": "stdout",
     "output_type": "stream",
     "text": [
      "Tempeature: 25c\n"
     ]
    }
   ],
   "source": [
    "#Create an integer variable for temperature\n",
    "temperature = 25\n",
    "\n",
    "#Print the value of the integer variable\n",
    "print(f\"Tempeature: {temperature}c\")"
   ]
  },
  {
   "cell_type": "code",
   "execution_count": 9,
   "id": "cf0107be-7169-4c21-b908-9f47d9ba2b26",
   "metadata": {},
   "outputs": [
    {
     "name": "stdout",
     "output_type": "stream",
     "text": [
      "Carbon Footprint: 500.75 kg CO2\n"
     ]
    }
   ],
   "source": [
    "#Create a float variable for carbon footprint\n",
    "carbon_footprint = 500.75 #kg CO2\n",
    "\n",
    "#Print the value of the float variable\n",
    "print(f\"Carbon Footprint: {carbon_footprint} kg CO2\")"
   ]
  },
  {
   "cell_type": "code",
   "execution_count": 11,
   "id": "4b85fb94-90fa-4287-87c0-28f6191fc5a9",
   "metadata": {},
   "outputs": [
    {
     "name": "stdout",
     "output_type": "stream",
     "text": [
      "Is the city sustainable? True\n"
     ]
    }
   ],
   "source": [
    "#Cretae a boolean variable to indicate if the city is sustainable\n",
    "is_sustainable = carbon_footprint < 600 #This will be False because 500.75 > 400\n",
    "\n",
    "#Print the value of the boolean variable\n",
    "print(f\"Is the city sustainable? {is_sustainable}\")"
   ]
  },
  {
   "cell_type": "code",
   "execution_count": 19,
   "id": "c4497646-9ab5-4b2f-b543-cafbc59bc532",
   "metadata": {},
   "outputs": [
    {
     "data": {
      "text/plain": [
       "1"
      ]
     },
     "execution_count": 19,
     "metadata": {},
     "output_type": "execute_result"
    }
   ],
   "source": [
    "x,y,z=1,2,3\n",
    "x"
   ]
  },
  {
   "cell_type": "code",
   "execution_count": 18,
   "id": "ff730474-05bf-4100-af06-b5fe4520624b",
   "metadata": {},
   "outputs": [
    {
     "name": "stdout",
     "output_type": "stream",
     "text": [
      "Weekly Temperatures: {24, 25, 26, 27, 28, 29, 30}\n"
     ]
    }
   ],
   "source": [
    "#Create a list variable for temperatures recorded in the city over a week\n",
    "weekly_temperatures = {25, 27, 28, 26, 24, 30, 29}\n",
    "\n",
    "#Print the list\n",
    "print(f\"Weekly Temperatures: {weekly_temperatures}\")"
   ]
  },
  {
   "cell_type": "code",
   "execution_count": 21,
   "id": "6dedf21f-6061-4c56-805c-9fcd3e1d1062",
   "metadata": {},
   "outputs": [
    {
     "name": "stdout",
     "output_type": "stream",
     "text": [
      "City Data: {'name': 'City A', 'temperature': 25, 'carbon_footprint': 500.75, 'is_sustainable': False}\n"
     ]
    }
   ],
   "source": [
    "#Create a dictionary variable to store city data\n",
    "city_data = {\n",
    "    \"name\": \"City A\",\n",
    "    \"temperature\": 25,\n",
    "    \"carbon_footprint\": 500.75,\n",
    "    \"is_sustainable\": False\n",
    "}\n",
    "\n",
    "#Print the dictionary\n",
    "print(f\"City Data: {city_data}\")"
   ]
  },
  {
   "cell_type": "code",
   "execution_count": 23,
   "id": "2d6eb1e4-6192-42f9-8ae5-a871301f570f",
   "metadata": {},
   "outputs": [
    {
     "name": "stdout",
     "output_type": "stream",
     "text": [
      "City Name: City B, Temperature: 30C, Carbon Footprint: 350.5kg CO2\n"
     ]
    }
   ],
   "source": [
    "#Assign multiple variables at once\n",
    "city_name, temperature, carbon_footprint =\"City B\", 30, 350.50\n",
    "\n",
    "#Print the values\n",
    "print (f\"City Name: {city_name}, Temperature: {temperature}C, Carbon Footprint: {carbon_footprint}kg CO2\")"
   ]
  },
  {
   "cell_type": "code",
   "execution_count": null,
   "id": "deb4c6f6-076a-4037-90f9-b1403c04a6cf",
   "metadata": {},
   "outputs": [],
   "source": []
  }
 ],
 "metadata": {
  "kernelspec": {
   "display_name": "Python 3 (ipykernel)",
   "language": "python",
   "name": "python3"
  },
  "language_info": {
   "codemirror_mode": {
    "name": "ipython",
    "version": 3
   },
   "file_extension": ".py",
   "mimetype": "text/x-python",
   "name": "python",
   "nbconvert_exporter": "python",
   "pygments_lexer": "ipython3",
   "version": "3.12.8"
  }
 },
 "nbformat": 4,
 "nbformat_minor": 5
}
