{
 "cells": [
  {
   "cell_type": "code",
   "execution_count": 1,
   "id": "f8325a3e-5762-4b20-baf8-118fb1343299",
   "metadata": {},
   "outputs": [
    {
     "name": "stdout",
     "output_type": "stream",
     "text": [
      "Original Energy Data with Missing Values:\n",
      "  Energy Source  Energy Consumption (MWh)  Cost (Million $)\n",
      "0        Soloar                    1200.0             200.0\n",
      "1          Wind                       NaN             400.0\n",
      "2    Hydropower                    2900.0               NaN\n",
      "3    Geothermal                       NaN             150.0\n",
      "4       Biomass                    2500.0             250.0\n",
      "5       Nuclear                    3200.0               NaN\n"
     ]
    }
   ],
   "source": [
    "import pandas as pd\n",
    "import numpy as np\n",
    "data = {\n",
    "    \"Energy Source\": [\"Soloar\", \"Wind\", \"Hydropower\", \"Geothermal\", \"Biomass\", \"Nuclear\"],\n",
    "    \"Energy Consumption (MWh)\": [1200, np.nan, 2900, np.nan, 2500, 3200],\n",
    "    \"Cost (Million $)\": [200, 400, np.nan, 150, 250, np.nan]\n",
    "}\n",
    "energy_df = pd.DataFrame(data)\n",
    "print(\"Original Energy Data with Missing Values:\")\n",
    "print(energy_df)"
   ]
  },
  {
   "cell_type": "code",
   "execution_count": 2,
   "id": "22824330-a9f6-4b39-8a38-3463ffbffb37",
   "metadata": {},
   "outputs": [
    {
     "name": "stdout",
     "output_type": "stream",
     "text": [
      "\n",
      "Data After Removing Rows with Missing Values:\n",
      "  Energy Source  Energy Consumption (MWh)  Cost (Million $)\n",
      "0        Soloar                    1200.0             200.0\n",
      "4       Biomass                    2500.0             250.0\n"
     ]
    }
   ],
   "source": [
    "cleaned_df = energy_df.dropna()\n",
    "print(\"\\nData After Removing Rows with Missing Values:\")\n",
    "print(cleaned_df)"
   ]
  },
  {
   "cell_type": "code",
   "execution_count": 4,
   "id": "918c2f04-08ff-49c2-8d4b-5d97249f80fd",
   "metadata": {},
   "outputs": [
    {
     "name": "stdout",
     "output_type": "stream",
     "text": [
      "\n",
      "Data After Forward Filling:\n",
      "  Energy Source  Energy Consumption (MWh)  Cost (Million $)\n",
      "0        Soloar                    1200.0             200.0\n",
      "1          Wind                    1200.0             400.0\n",
      "2    Hydropower                    2900.0             400.0\n",
      "3    Geothermal                    2900.0             150.0\n",
      "4       Biomass                    2500.0             250.0\n",
      "5       Nuclear                    3200.0             250.0\n"
     ]
    },
    {
     "name": "stderr",
     "output_type": "stream",
     "text": [
      "C:\\Users\\User\\AppData\\Local\\Temp\\ipykernel_9436\\904798954.py:1: FutureWarning: DataFrame.fillna with 'method' is deprecated and will raise in a future version. Use obj.ffill() or obj.bfill() instead.\n",
      "  forward_filled_df = energy_df.fillna(method=\"ffill\")\n"
     ]
    }
   ],
   "source": [
    "forward_filled_df = energy_df.fillna(method=\"ffill\")\n",
    "print(\"\\nData After Forward Filling:\")\n",
    "print(forward_filled_df)"
   ]
  },
  {
   "cell_type": "code",
   "execution_count": 8,
   "id": "86b7735a-b35a-4eb9-9b31-62eb2991a330",
   "metadata": {},
   "outputs": [
    {
     "name": "stdout",
     "output_type": "stream",
     "text": [
      "\n",
      "Data After Imputing Misssing Values with Mean:\n",
      "  Energy Source  Energy Consumption (MWh)  Cost (Million $)\n",
      "0        Soloar                    1200.0             200.0\n",
      "1          Wind                    2450.0             400.0\n",
      "2    Hydropower                    2900.0             250.0\n",
      "3    Geothermal                    2450.0             150.0\n",
      "4       Biomass                    2500.0             250.0\n",
      "5       Nuclear                    3200.0             250.0\n"
     ]
    },
    {
     "name": "stderr",
     "output_type": "stream",
     "text": [
      "C:\\Users\\User\\AppData\\Local\\Temp\\ipykernel_9436\\878134712.py:1: FutureWarning: A value is trying to be set on a copy of a DataFrame or Series through chained assignment using an inplace method.\n",
      "The behavior will change in pandas 3.0. This inplace method will never work because the intermediate object on which we are setting values always behaves as a copy.\n",
      "\n",
      "For example, when doing 'df[col].method(value, inplace=True)', try using 'df.method({col: value}, inplace=True)' or df[col] = df[col].method(value) instead, to perform the operation inplace on the original object.\n",
      "\n",
      "\n",
      "  energy_df[\"Energy Consumption (MWh)\"].fillna(energy_df[\"Energy Consumption (MWh)\"].mean(), inplace=True)\n",
      "C:\\Users\\User\\AppData\\Local\\Temp\\ipykernel_9436\\878134712.py:2: FutureWarning: A value is trying to be set on a copy of a DataFrame or Series through chained assignment using an inplace method.\n",
      "The behavior will change in pandas 3.0. This inplace method will never work because the intermediate object on which we are setting values always behaves as a copy.\n",
      "\n",
      "For example, when doing 'df[col].method(value, inplace=True)', try using 'df.method({col: value}, inplace=True)' or df[col] = df[col].method(value) instead, to perform the operation inplace on the original object.\n",
      "\n",
      "\n",
      "  energy_df[\"Cost (Million $)\"].fillna(energy_df[\"Cost (Million $)\"].mean(), inplace=True)\n"
     ]
    }
   ],
   "source": [
    "energy_df[\"Energy Consumption (MWh)\"].fillna(energy_df[\"Energy Consumption (MWh)\"].mean(), inplace=True)\n",
    "energy_df[\"Cost (Million $)\"].fillna(energy_df[\"Cost (Million $)\"].mean(), inplace=True)\n",
    "print(\"\\nData After Imputing Misssing Values with Mean:\")\n",
    "print(energy_df)"
   ]
  },
  {
   "cell_type": "code",
   "execution_count": 9,
   "id": "6642593d-3032-469f-851d-afbf801286ca",
   "metadata": {},
   "outputs": [
    {
     "name": "stdout",
     "output_type": "stream",
     "text": [
      "\n",
      "Data with Missing Flagged:\n",
      "  Energy Source  Energy Consumption (MWh)  Cost (Million $)  \\\n",
      "0        Soloar                    1200.0             200.0   \n",
      "1          Wind                    2450.0             400.0   \n",
      "2    Hydropower                    2900.0             250.0   \n",
      "3    Geothermal                    2450.0             150.0   \n",
      "4       Biomass                    2500.0             250.0   \n",
      "5       Nuclear                    3200.0             250.0   \n",
      "\n",
      "   Missing Consumption  \n",
      "0                    0  \n",
      "1                    0  \n",
      "2                    0  \n",
      "3                    0  \n",
      "4                    0  \n",
      "5                    0  \n"
     ]
    }
   ],
   "source": [
    "energy_df[\"Missing Consumption\"] = energy_df[\"Energy Consumption (MWh)\"].isna().astype(int)\n",
    "print(\"\\nData with Missing Flagged:\")\n",
    "print(energy_df)"
   ]
  },
  {
   "cell_type": "code",
   "execution_count": 10,
   "id": "15071565-b5ea-4025-a1ee-621d67397db3",
   "metadata": {},
   "outputs": [
    {
     "name": "stdout",
     "output_type": "stream",
     "text": [
      "Collecting scikit-learn\n",
      "  Downloading scikit_learn-1.6.1-cp312-cp312-win_amd64.whl.metadata (15 kB)\n",
      "Requirement already satisfied: numpy>=1.19.5 in c:\\users\\user\\appdata\\local\\programs\\python\\python312\\lib\\site-packages (from scikit-learn) (2.2.2)\n",
      "Collecting scipy>=1.6.0 (from scikit-learn)\n",
      "  Downloading scipy-1.15.1-cp312-cp312-win_amd64.whl.metadata (60 kB)\n",
      "Collecting joblib>=1.2.0 (from scikit-learn)\n",
      "  Downloading joblib-1.4.2-py3-none-any.whl.metadata (5.4 kB)\n",
      "Collecting threadpoolctl>=3.1.0 (from scikit-learn)\n",
      "  Downloading threadpoolctl-3.5.0-py3-none-any.whl.metadata (13 kB)\n",
      "Downloading scikit_learn-1.6.1-cp312-cp312-win_amd64.whl (11.1 MB)\n",
      "   ---------------------------------------- 0.0/11.1 MB ? eta -:--:--\n",
      "   ------------------------------- -------- 8.7/11.1 MB 48.8 MB/s eta 0:00:01\n",
      "   ---------------------------------------- 11.1/11.1 MB 43.4 MB/s eta 0:00:00\n",
      "Downloading joblib-1.4.2-py3-none-any.whl (301 kB)\n",
      "Downloading scipy-1.15.1-cp312-cp312-win_amd64.whl (43.6 MB)\n",
      "   ---------------------------------------- 0.0/43.6 MB ? eta -:--:--\n",
      "   ------ --------------------------------- 6.6/43.6 MB 33.6 MB/s eta 0:00:02\n",
      "   -------- ------------------------------- 9.2/43.6 MB 22.0 MB/s eta 0:00:02\n",
      "   ---------- ----------------------------- 11.0/43.6 MB 18.6 MB/s eta 0:00:02\n",
      "   ----------- ---------------------------- 12.6/43.6 MB 15.2 MB/s eta 0:00:03\n",
      "   ------------ --------------------------- 13.6/43.6 MB 13.6 MB/s eta 0:00:03\n",
      "   ------------- -------------------------- 14.7/43.6 MB 12.0 MB/s eta 0:00:03\n",
      "   -------------- ------------------------- 16.0/43.6 MB 10.8 MB/s eta 0:00:03\n",
      "   --------------- ------------------------ 17.0/43.6 MB 10.2 MB/s eta 0:00:03\n",
      "   ---------------- ----------------------- 18.4/43.6 MB 9.8 MB/s eta 0:00:03\n",
      "   ------------------ --------------------- 19.7/43.6 MB 9.5 MB/s eta 0:00:03\n",
      "   ------------------- -------------------- 21.2/43.6 MB 9.2 MB/s eta 0:00:03\n",
      "   -------------------- ------------------- 22.3/43.6 MB 8.9 MB/s eta 0:00:03\n",
      "   --------------------- ------------------ 23.1/43.6 MB 8.5 MB/s eta 0:00:03\n",
      "   --------------------- ------------------ 23.9/43.6 MB 8.2 MB/s eta 0:00:03\n",
      "   ---------------------- ----------------- 24.9/43.6 MB 8.0 MB/s eta 0:00:03\n",
      "   ----------------------- ---------------- 25.7/43.6 MB 7.7 MB/s eta 0:00:03\n",
      "   ------------------------ --------------- 26.5/43.6 MB 7.4 MB/s eta 0:00:03\n",
      "   ------------------------ --------------- 27.0/43.6 MB 7.2 MB/s eta 0:00:03\n",
      "   ------------------------- -------------- 27.8/43.6 MB 7.0 MB/s eta 0:00:03\n",
      "   -------------------------- ------------- 28.6/43.6 MB 6.8 MB/s eta 0:00:03\n",
      "   -------------------------- ------------- 29.4/43.6 MB 6.7 MB/s eta 0:00:03\n",
      "   --------------------------- ------------ 30.4/43.6 MB 6.6 MB/s eta 0:00:02\n",
      "   ---------------------------- ----------- 31.5/43.6 MB 6.5 MB/s eta 0:00:02\n",
      "   ----------------------------- ---------- 32.5/43.6 MB 6.5 MB/s eta 0:00:02\n",
      "   ------------------------------ --------- 33.3/43.6 MB 6.4 MB/s eta 0:00:02\n",
      "   ------------------------------- -------- 33.8/43.6 MB 6.3 MB/s eta 0:00:02\n",
      "   ------------------------------- -------- 34.3/43.6 MB 6.1 MB/s eta 0:00:02\n",
      "   ------------------------------- -------- 34.6/43.6 MB 6.0 MB/s eta 0:00:02\n",
      "   -------------------------------- ------- 35.1/43.6 MB 5.8 MB/s eta 0:00:02\n",
      "   -------------------------------- ------- 35.4/43.6 MB 5.7 MB/s eta 0:00:02\n",
      "   -------------------------------- ------- 35.9/43.6 MB 5.5 MB/s eta 0:00:02\n",
      "   --------------------------------- ------ 36.4/43.6 MB 5.4 MB/s eta 0:00:02\n",
      "   ---------------------------------- ----- 37.2/43.6 MB 5.4 MB/s eta 0:00:02\n",
      "   ---------------------------------- ----- 38.0/43.6 MB 5.3 MB/s eta 0:00:02\n",
      "   ----------------------------------- ---- 39.1/43.6 MB 5.3 MB/s eta 0:00:01\n",
      "   ------------------------------------ --- 40.1/43.6 MB 5.3 MB/s eta 0:00:01\n",
      "   ------------------------------------- -- 40.9/43.6 MB 5.3 MB/s eta 0:00:01\n",
      "   -------------------------------------- - 41.7/43.6 MB 5.2 MB/s eta 0:00:01\n",
      "   ---------------------------------------  42.7/43.6 MB 5.2 MB/s eta 0:00:01\n",
      "   ---------------------------------------  43.5/43.6 MB 5.2 MB/s eta 0:00:01\n",
      "   ---------------------------------------- 43.6/43.6 MB 5.1 MB/s eta 0:00:00\n",
      "Downloading threadpoolctl-3.5.0-py3-none-any.whl (18 kB)\n",
      "Installing collected packages: threadpoolctl, scipy, joblib, scikit-learn\n",
      "Successfully installed joblib-1.4.2 scikit-learn-1.6.1 scipy-1.15.1 threadpoolctl-3.5.0\n"
     ]
    }
   ],
   "source": [
    "!pip install scikit-learn"
   ]
  },
  {
   "cell_type": "code",
   "execution_count": 14,
   "id": "d8a6bd94-33be-4ffa-8fc9-c55c969a2539",
   "metadata": {},
   "outputs": [
    {
     "name": "stdout",
     "output_type": "stream",
     "text": [
      "\n",
      "Data After Normalization (Min-Max Scaling):\n",
      "  Energy Source  Energy Consumption (MWh)  Cost (Million $)  \\\n",
      "0        Soloar                     0.000               0.2   \n",
      "1          Wind                     0.625               1.0   \n",
      "2    Hydropower                     0.850               0.4   \n",
      "3    Geothermal                     0.625               0.0   \n",
      "4       Biomass                     0.650               0.4   \n",
      "5       Nuclear                     1.000               0.4   \n",
      "\n",
      "   Missing Consumption  \n",
      "0                    0  \n",
      "1                    0  \n",
      "2                    0  \n",
      "3                    0  \n",
      "4                    0  \n",
      "5                    0  \n"
     ]
    }
   ],
   "source": [
    "from sklearn.preprocessing import MinMaxScaler\n",
    "scaler = MinMaxScaler()\n",
    "energy_df[[\"Energy Consumption (MWh)\", \"Cost (Million $)\"]] = scaler.fit_transform(\n",
    "    energy_df[[\"Energy Consumption (MWh)\", \"Cost (Million $)\"]]\n",
    ")\n",
    "print(\"\\nData After Normalization (Min-Max Scaling):\")\n",
    "print(energy_df)"
   ]
  },
  {
   "cell_type": "code",
   "execution_count": 15,
   "id": "49d41766-1fba-4802-8597-71e05c1c3e67",
   "metadata": {},
   "outputs": [
    {
     "name": "stdout",
     "output_type": "stream",
     "text": [
      "\n",
      "Data After Standardization (Z-score Scaling):\n",
      "  Energy Source  Energy Consumption (MWh)  Cost (Million $)  \\\n",
      "0        Soloar             -2.005893e+00     -6.546537e-01   \n",
      "1          Wind              3.563181e-16      1.963961e+00   \n",
      "2    Hydropower              7.221213e-01      1.817029e-16   \n",
      "3    Geothermal              3.563181e-16     -1.309307e+00   \n",
      "4       Biomass              8.023570e-02      1.817029e-16   \n",
      "5       Nuclear              1.203536e+00      1.817029e-16   \n",
      "\n",
      "   Missing Consumption  \n",
      "0                    0  \n",
      "1                    0  \n",
      "2                    0  \n",
      "3                    0  \n",
      "4                    0  \n",
      "5                    0  \n"
     ]
    }
   ],
   "source": [
    "from sklearn.preprocessing import StandardScaler\n",
    "scaler = StandardScaler()\n",
    "energy_df[[\"Energy Consumption (MWh)\", \"Cost (Million $)\"]] = scaler.fit_transform(\n",
    "    energy_df[[\"Energy Consumption (MWh)\", \"Cost (Million $)\"]]\n",
    ")\n",
    "print(\"\\nData After Standardization (Z-score Scaling):\")\n",
    "print(energy_df)"
   ]
  },
  {
   "cell_type": "code",
   "execution_count": 18,
   "id": "a6ed02e7-46a3-414d-9843-15dc5378883f",
   "metadata": {},
   "outputs": [
    {
     "name": "stdout",
     "output_type": "stream",
     "text": [
      "\n",
      "Data After One-Hot Encoding Categorical Variables:\n",
      "   Energy Consumption (MWh)  Cost (Million $)  Missing Consumption  \\\n",
      "0             -2.005893e+00     -6.546537e-01                    0   \n",
      "1              3.563181e-16      1.963961e+00                    0   \n",
      "2              7.221213e-01      1.817029e-16                    0   \n",
      "3              3.563181e-16     -1.309307e+00                    0   \n",
      "4              8.023570e-02      1.817029e-16                    0   \n",
      "5              1.203536e+00      1.817029e-16                    0   \n",
      "\n",
      "   Energy Source_Biomass  Energy Source_Geothermal  Energy Source_Hydropower  \\\n",
      "0                  False                     False                     False   \n",
      "1                  False                     False                     False   \n",
      "2                  False                     False                      True   \n",
      "3                  False                      True                     False   \n",
      "4                   True                     False                     False   \n",
      "5                  False                     False                     False   \n",
      "\n",
      "   Energy Source_Nuclear  Energy Source_Soloar  Energy Source_Wind  \n",
      "0                  False                  True               False  \n",
      "1                  False                 False                True  \n",
      "2                  False                 False               False  \n",
      "3                  False                 False               False  \n",
      "4                  False                 False               False  \n",
      "5                   True                 False               False  \n"
     ]
    }
   ],
   "source": [
    "energy_encoded_df = pd.get_dummies(energy_df, columns=[\"Energy Source\"])\n",
    "print(\"\\nData After One-Hot Encoding Categorical Variables:\")\n",
    "print(energy_encoded_df)"
   ]
  },
  {
   "cell_type": "code",
   "execution_count": 20,
   "id": "f4189beb-16e8-4094-8290-e284332a1f67",
   "metadata": {},
   "outputs": [
    {
     "name": "stdout",
     "output_type": "stream",
     "text": [
      "\n",
      "Data with New Feature (Consumption per $Million):\n",
      "   Energy Consumption (MWh)  Cost (Million $)  Missing Consumption  \\\n",
      "0             -2.005893e+00     -6.546537e-01                    0   \n",
      "1              3.563181e-16      1.963961e+00                    0   \n",
      "2              7.221213e-01      1.817029e-16                    0   \n",
      "3              3.563181e-16     -1.309307e+00                    0   \n",
      "4              8.023570e-02      1.817029e-16                    0   \n",
      "5              1.203536e+00      1.817029e-16                    0   \n",
      "\n",
      "   Energy Source_Biomass  Energy Source_Geothermal  Energy Source_Hydropower  \\\n",
      "0                  False                     False                     False   \n",
      "1                  False                     False                     False   \n",
      "2                  False                     False                      True   \n",
      "3                  False                      True                     False   \n",
      "4                   True                     False                     False   \n",
      "5                  False                     False                     False   \n",
      "\n",
      "   Energy Source_Nuclear  Energy Source_Soloar  Energy Source_Wind  \\\n",
      "0                  False                  True               False   \n",
      "1                  False                 False                True   \n",
      "2                  False                 False               False   \n",
      "3                  False                 False               False   \n",
      "4                  False                 False               False   \n",
      "5                   True                 False               False   \n",
      "\n",
      "   Consumption per $Million  \n",
      "0              3.064052e+00  \n",
      "1              1.814283e-16  \n",
      "2              3.974187e+15  \n",
      "3             -2.721424e-16  \n",
      "4              4.415764e+14  \n",
      "5              6.623646e+15  \n"
     ]
    }
   ],
   "source": [
    "energy_encoded_df[\"Consumption per $Million\"] = energy_encoded_df[\"Energy Consumption (MWh)\"] / energy_encoded_df[\"Cost (Million $)\"]\n",
    "print(\"\\nData with New Feature (Consumption per $Million):\")\n",
    "print(energy_encoded_df)"
   ]
  },
  {
   "cell_type": "code",
   "execution_count": null,
   "id": "fc922e4f-a737-4abd-8a31-08a782e527fa",
   "metadata": {},
   "outputs": [],
   "source": []
  }
 ],
 "metadata": {
  "kernelspec": {
   "display_name": "Python 3 (ipykernel)",
   "language": "python",
   "name": "python3"
  },
  "language_info": {
   "codemirror_mode": {
    "name": "ipython",
    "version": 3
   },
   "file_extension": ".py",
   "mimetype": "text/x-python",
   "name": "python",
   "nbconvert_exporter": "python",
   "pygments_lexer": "ipython3",
   "version": "3.12.8"
  }
 },
 "nbformat": 4,
 "nbformat_minor": 5
}
