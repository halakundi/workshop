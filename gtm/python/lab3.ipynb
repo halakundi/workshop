{
 "cells": [
  {
   "cell_type": "code",
   "execution_count": 2,
   "id": "898a58bc-ae8a-42dd-a224-a8d8dc4b392a",
   "metadata": {},
   "outputs": [
    {
     "name": "stdout",
     "output_type": "stream",
     "text": [
      "Cities with high temperatures (> 26c):\n",
      "City B - 30c\n",
      "City E - 28c\n"
     ]
    }
   ],
   "source": [
    "#Sample climate dataset\n",
    "Climate_data = [\n",
    "    {\"city\": \"City A\", \"temperature\": 25, \"carbon_footprint\": 500},\n",
    "    {\"city\": \"City B\", \"temperature\": 30, \"carbon_footprint\": 350},\n",
    "    {\"city\": \"City c\", \"temperature\": 22, \"carbon_footprint\": 600},\n",
    "    {\"city\": \"City D\", \"temperature\": 15, \"carbon_footprint\": 200},\n",
    "    {\"city\": \"City E\", \"temperature\": 28, \"carbon_footprint\": 450},\n",
    "]\n",
    "\n",
    "#High temperature threshold (cities above this temperature will be selected)\n",
    "high_temp_threshold = 26\n",
    "\n",
    "#Use a list comprehension to filter cities with temperatures higher than the threshold\n",
    "high_temp_cities = [city for city in Climate_data if city[\"temperature\"] > high_temp_threshold]\n",
    "\n",
    "#Print the result\n",
    "print(\"Cities with high temperatures (> 26c):\")\n",
    "for city in high_temp_cities:\n",
    "    print(f\"{city['city']} - {city['temperature']}c\")"
   ]
  },
  {
   "cell_type": "code",
   "execution_count": 3,
   "id": "71d367bb-b7aa-4f82-976a-0bd1c27f0b39",
   "metadata": {},
   "outputs": [
    {
     "name": "stdout",
     "output_type": "stream",
     "text": [
      "\n",
      "Average Carbon Footprint: 420.00 kg CO2\n"
     ]
    }
   ],
   "source": [
    "total_carbon = 0\n",
    "for city in Climate_data:\n",
    "    total_carbon += city[\"carbon_footprint\"]\n",
    "average_carbon_footprint =total_carbon / len(Climate_data)\n",
    "print(f\"\\nAverage Carbon Footprint: {average_carbon_footprint:.2f} kg CO2\")"
   ]
  },
  {
   "cell_type": "code",
   "execution_count": 4,
   "id": "74cffa2b-cf5f-492a-90a0-49c83a191355",
   "metadata": {},
   "outputs": [
    {
     "name": "stdout",
     "output_type": "stream",
     "text": [
      "\n",
      "Sustainable Cities (carbon footprint < 400 kg CO2):\n",
      "City B - 350 kg CO2\n",
      "City D - 200 kg CO2\n"
     ]
    }
   ],
   "source": [
    "sustainability_threshold = 400\n",
    "sustainable_cities = list(filter(lambda city:city[\"carbon_footprint\"] < sustainability_threshold, Climate_data))\n",
    "print(\"\\nSustainable Cities (carbon footprint < 400 kg CO2):\")\n",
    "for city in sustainable_cities:\n",
    "    print(f\"{city['city']} - {city['carbon_footprint']} kg CO2\")"
   ]
  },
  {
   "cell_type": "code",
   "execution_count": 7,
   "id": "8b99e4e1-eb48-4a3c-97c6-b4ef1667a1ca",
   "metadata": {},
   "outputs": [
    {
     "name": "stdout",
     "output_type": "stream",
     "text": [
      "\n",
      "City with the highest carbon footprint:\n",
      "City c - 600 kg CO2\n"
     ]
    }
   ],
   "source": [
    "highest_footprint_city = max(Climate_data, key=lambda city: city[\"carbon_footprint\"])\n",
    "print(f\"\\nCity with the highest carbon footprint:\")\n",
    "print(f\"{highest_footprint_city['city']} - {highest_footprint_city['carbon_footprint']} kg CO2\")"
   ]
  },
  {
   "cell_type": "code",
   "execution_count": null,
   "id": "10766166-e365-4338-8e7e-1799288ab9d5",
   "metadata": {},
   "outputs": [],
   "source": []
  }
 ],
 "metadata": {
  "kernelspec": {
   "display_name": "Python 3 (ipykernel)",
   "language": "python",
   "name": "python3"
  },
  "language_info": {
   "codemirror_mode": {
    "name": "ipython",
    "version": 3
   },
   "file_extension": ".py",
   "mimetype": "text/x-python",
   "name": "python",
   "nbconvert_exporter": "python",
   "pygments_lexer": "ipython3",
   "version": "3.12.8"
  }
 },
 "nbformat": 4,
 "nbformat_minor": 5
}
